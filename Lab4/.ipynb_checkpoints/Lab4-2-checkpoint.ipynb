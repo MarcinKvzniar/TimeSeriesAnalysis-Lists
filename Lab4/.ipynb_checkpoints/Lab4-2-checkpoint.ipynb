{
 "cells": [
  {
   "cell_type": "markdown",
   "id": "9717d578-fb94-44d0-85f5-2b60c2550903",
   "metadata": {},
   "source": [
    "# Total consumption of electricity for all sectors - monthly"
   ]
  },
  {
   "cell_type": "code",
   "execution_count": 1,
   "id": "02833f5b-a956-4b0f-9d4a-86a716c7cbfb",
   "metadata": {},
   "outputs": [],
   "source": [
    "import pandas as pd\n",
    "import matplotlib.pyplot as plt\n",
    "import numpy as np"
   ]
  },
  {
   "cell_type": "code",
   "execution_count": 2,
   "id": "ebeaf757-2d00-4cac-9177-14c566b88530",
   "metadata": {},
   "outputs": [
    {
     "name": "stderr",
     "output_type": "stream",
     "text": [
      "C:\\Users\\Marcin\\AppData\\Local\\Temp\\ipykernel_12936\\733017524.py:2: UserWarning: Could not infer format, so each element will be parsed individually, falling back to `dateutil`. To ensure parsing is consistent and as-expected, please specify a format.\n",
      "  df['Month'] = pd.to_datetime(df['Month'])\n"
     ]
    },
    {
     "data": {
      "text/html": [
       "<div>\n",
       "<style scoped>\n",
       "    .dataframe tbody tr th:only-of-type {\n",
       "        vertical-align: middle;\n",
       "    }\n",
       "\n",
       "    .dataframe tbody tr th {\n",
       "        vertical-align: top;\n",
       "    }\n",
       "\n",
       "    .dataframe thead th {\n",
       "        text-align: right;\n",
       "    }\n",
       "</style>\n",
       "<table border=\"1\" class=\"dataframe\">\n",
       "  <thead>\n",
       "    <tr style=\"text-align: right;\">\n",
       "      <th></th>\n",
       "      <th>Total consumption of coal in US (tonnes)</th>\n",
       "    </tr>\n",
       "    <tr>\n",
       "      <th>Month</th>\n",
       "      <th></th>\n",
       "    </tr>\n",
       "  </thead>\n",
       "  <tbody>\n",
       "    <tr>\n",
       "      <th>2000-12-01</th>\n",
       "      <td>90950.50800</td>\n",
       "    </tr>\n",
       "    <tr>\n",
       "      <th>2001-01-01</th>\n",
       "      <td>77545.15800</td>\n",
       "    </tr>\n",
       "    <tr>\n",
       "      <th>2001-02-01</th>\n",
       "      <td>80268.06100</td>\n",
       "    </tr>\n",
       "    <tr>\n",
       "      <th>2001-03-01</th>\n",
       "      <td>NaN</td>\n",
       "    </tr>\n",
       "    <tr>\n",
       "      <th>2001-03-01</th>\n",
       "      <td>NaN</td>\n",
       "    </tr>\n",
       "    <tr>\n",
       "      <th>...</th>\n",
       "      <td>...</td>\n",
       "    </tr>\n",
       "    <tr>\n",
       "      <th>2022-09-01</th>\n",
       "      <td>32390.58403</td>\n",
       "    </tr>\n",
       "    <tr>\n",
       "      <th>2022-10-01</th>\n",
       "      <td>NaN</td>\n",
       "    </tr>\n",
       "    <tr>\n",
       "      <th>2022-10-01</th>\n",
       "      <td>NaN</td>\n",
       "    </tr>\n",
       "    <tr>\n",
       "      <th>2022-10-01</th>\n",
       "      <td>33301.18205</td>\n",
       "    </tr>\n",
       "    <tr>\n",
       "      <th>2022-12-01</th>\n",
       "      <td>NaN</td>\n",
       "    </tr>\n",
       "  </tbody>\n",
       "</table>\n",
       "<p>482 rows × 1 columns</p>\n",
       "</div>"
      ],
      "text/plain": [
       "            Total consumption of coal in US (tonnes)\n",
       "Month                                               \n",
       "2000-12-01                               90950.50800\n",
       "2001-01-01                               77545.15800\n",
       "2001-02-01                               80268.06100\n",
       "2001-03-01                                       NaN\n",
       "2001-03-01                                       NaN\n",
       "...                                              ...\n",
       "2022-09-01                               32390.58403\n",
       "2022-10-01                                       NaN\n",
       "2022-10-01                                       NaN\n",
       "2022-10-01                               33301.18205\n",
       "2022-12-01                                       NaN\n",
       "\n",
       "[482 rows x 1 columns]"
      ]
     },
     "execution_count": 2,
     "metadata": {},
     "output_type": "execute_result"
    }
   ],
   "source": [
    "df = pd.read_csv('total-consumption.csv')\n",
    "df['Month'] = pd.to_datetime(df['Month'])\n",
    "df.set_index('Month', inplace=True)\n",
    "df = df.iloc[::-1]\n",
    "df"
   ]
  },
  {
   "cell_type": "markdown",
   "id": "8e150359-6710-41e7-b69d-23a4c2adadb3",
   "metadata": {},
   "source": [
    "# Differencing and interpolation of missing values"
   ]
  },
  {
   "cell_type": "code",
   "execution_count": 3,
   "id": "87cfcda8-66b0-454d-806a-37a837006be3",
   "metadata": {},
   "outputs": [
    {
     "data": {
      "text/html": [
       "<div>\n",
       "<style scoped>\n",
       "    .dataframe tbody tr th:only-of-type {\n",
       "        vertical-align: middle;\n",
       "    }\n",
       "\n",
       "    .dataframe tbody tr th {\n",
       "        vertical-align: top;\n",
       "    }\n",
       "\n",
       "    .dataframe thead th {\n",
       "        text-align: right;\n",
       "    }\n",
       "</style>\n",
       "<table border=\"1\" class=\"dataframe\">\n",
       "  <thead>\n",
       "    <tr style=\"text-align: right;\">\n",
       "      <th></th>\n",
       "      <th>Total consumption of coal in US (tonnes)</th>\n",
       "      <th>dif</th>\n",
       "    </tr>\n",
       "    <tr>\n",
       "      <th>Month</th>\n",
       "      <th></th>\n",
       "      <th></th>\n",
       "    </tr>\n",
       "  </thead>\n",
       "  <tbody>\n",
       "    <tr>\n",
       "      <th>2000-12-01</th>\n",
       "      <td>90950.508000</td>\n",
       "      <td>NaN</td>\n",
       "    </tr>\n",
       "    <tr>\n",
       "      <th>2001-01-01</th>\n",
       "      <td>77545.158000</td>\n",
       "      <td>-13405.350000</td>\n",
       "    </tr>\n",
       "    <tr>\n",
       "      <th>2001-02-01</th>\n",
       "      <td>80268.061000</td>\n",
       "      <td>2722.903000</td>\n",
       "    </tr>\n",
       "    <tr>\n",
       "      <th>2001-03-01</th>\n",
       "      <td>77688.830667</td>\n",
       "      <td>-2579.230333</td>\n",
       "    </tr>\n",
       "    <tr>\n",
       "      <th>2001-03-01</th>\n",
       "      <td>75109.600333</td>\n",
       "      <td>-2579.230333</td>\n",
       "    </tr>\n",
       "    <tr>\n",
       "      <th>...</th>\n",
       "      <td>...</td>\n",
       "      <td>...</td>\n",
       "    </tr>\n",
       "    <tr>\n",
       "      <th>2022-09-01</th>\n",
       "      <td>32390.584030</td>\n",
       "      <td>-5816.450890</td>\n",
       "    </tr>\n",
       "    <tr>\n",
       "      <th>2022-10-01</th>\n",
       "      <td>32694.116703</td>\n",
       "      <td>303.532673</td>\n",
       "    </tr>\n",
       "    <tr>\n",
       "      <th>2022-10-01</th>\n",
       "      <td>32997.649377</td>\n",
       "      <td>303.532673</td>\n",
       "    </tr>\n",
       "    <tr>\n",
       "      <th>2022-10-01</th>\n",
       "      <td>33301.182050</td>\n",
       "      <td>303.532673</td>\n",
       "    </tr>\n",
       "    <tr>\n",
       "      <th>2022-12-01</th>\n",
       "      <td>33301.182050</td>\n",
       "      <td>0.000000</td>\n",
       "    </tr>\n",
       "  </tbody>\n",
       "</table>\n",
       "<p>482 rows × 2 columns</p>\n",
       "</div>"
      ],
      "text/plain": [
       "            Total consumption of coal in US (tonnes)           dif\n",
       "Month                                                             \n",
       "2000-12-01                              90950.508000           NaN\n",
       "2001-01-01                              77545.158000 -13405.350000\n",
       "2001-02-01                              80268.061000   2722.903000\n",
       "2001-03-01                              77688.830667  -2579.230333\n",
       "2001-03-01                              75109.600333  -2579.230333\n",
       "...                                              ...           ...\n",
       "2022-09-01                              32390.584030  -5816.450890\n",
       "2022-10-01                              32694.116703    303.532673\n",
       "2022-10-01                              32997.649377    303.532673\n",
       "2022-10-01                              33301.182050    303.532673\n",
       "2022-12-01                              33301.182050      0.000000\n",
       "\n",
       "[482 rows x 2 columns]"
      ]
     },
     "execution_count": 3,
     "metadata": {},
     "output_type": "execute_result"
    }
   ],
   "source": [
    "df = df.interpolate()\n",
    "df['dif'] = df['Total consumption of coal in US (tonnes)'].diff()\n",
    "df"
   ]
  },
  {
   "cell_type": "code",
   "execution_count": 10,
   "id": "9dc9d991-f724-4b53-9735-e1fe9cfbd48c",
   "metadata": {},
   "outputs": [
    {
     "ename": "NameError",
     "evalue": "name 'Month' is not defined",
     "output_type": "error",
     "traceback": [
      "\u001b[1;31m---------------------------------------------------------------------------\u001b[0m",
      "\u001b[1;31mNameError\u001b[0m                                 Traceback (most recent call last)",
      "Cell \u001b[1;32mIn[10], line 2\u001b[0m\n\u001b[0;32m      1\u001b[0m plt\u001b[38;5;241m.\u001b[39mplot(df[\u001b[38;5;124m'\u001b[39m\u001b[38;5;124mdif\u001b[39m\u001b[38;5;124m'\u001b[39m])\n\u001b[1;32m----> 2\u001b[0m plt\u001b[38;5;241m.\u001b[39mxlim(\u001b[43mMonth\u001b[49m[\u001b[38;5;241m0\u001b[39m], Month[\u001b[38;5;241m-\u001b[39m\u001b[38;5;241m1\u001b[39m])\n\u001b[0;32m      3\u001b[0m num_ticks \u001b[38;5;241m=\u001b[39m \u001b[38;5;241m5\u001b[39m\n\u001b[0;32m      4\u001b[0m x_ticks \u001b[38;5;241m=\u001b[39m df\u001b[38;5;241m.\u001b[39mindex[::\u001b[38;5;28mlen\u001b[39m(df\u001b[38;5;241m.\u001b[39mindex)\u001b[38;5;241m/\u001b[39m\u001b[38;5;241m/\u001b[39mnum_ticks]\n",
      "\u001b[1;31mNameError\u001b[0m: name 'Month' is not defined"
     ]
    },
    {
     "data": {
      "image/png": "[encoded data removed]",
      "text/plain": [
       "<Figure size 640x480 with 1 Axes>"
      ]
     },
     "metadata": {},
     "output_type": "display_data"
    }
   ],
   "source": [
    "plt.plot(df['dif'])\n",
    "plt.xlim(Month[0], Month[-1])\n",
    "num_ticks = 5\n",
    "x_ticks = df.index[::len(df.index)//num_ticks]\n",
    "plt.xticks(x_ticks)"
   ]
  },
  {
   "cell_type": "markdown",
   "id": "e23ac6dc-f52c-41de-a89a-12134cd230fd",
   "metadata": {},
   "source": [
    "# Differencing with removed seasonal component"
   ]
  },
  {
   "cell_type": "code",
   "execution_count": 13,
   "id": "01d6a839-f6ab-453e-859f-75c719e55b37",
   "metadata": {},
   "outputs": [
    {
     "data": {
      "text/html": [
       "<div>\n",
       "<style scoped>\n",
       "    .dataframe tbody tr th:only-of-type {\n",
       "        vertical-align: middle;\n",
       "    }\n",
       "\n",
       "    .dataframe tbody tr th {\n",
       "        vertical-align: top;\n",
       "    }\n",
       "\n",
       "    .dataframe thead th {\n",
       "        text-align: right;\n",
       "    }\n",
       "</style>\n",
       "<table border=\"1\" class=\"dataframe\">\n",
       "  <thead>\n",
       "    <tr style=\"text-align: right;\">\n",
       "      <th></th>\n",
       "      <th>Total consumption of coal in US (tonnes)</th>\n",
       "      <th>dif</th>\n",
       "      <th>seasonal_diff</th>\n",
       "    </tr>\n",
       "    <tr>\n",
       "      <th>Month</th>\n",
       "      <th></th>\n",
       "      <th></th>\n",
       "      <th></th>\n",
       "    </tr>\n",
       "  </thead>\n",
       "  <tbody>\n",
       "    <tr>\n",
       "      <th>2000-12-01</th>\n",
       "      <td>90950.508000</td>\n",
       "      <td>NaN</td>\n",
       "      <td>NaN</td>\n",
       "    </tr>\n",
       "    <tr>\n",
       "      <th>2001-01-01</th>\n",
       "      <td>77545.158000</td>\n",
       "      <td>-13405.350000</td>\n",
       "      <td>NaN</td>\n",
       "    </tr>\n",
       "    <tr>\n",
       "      <th>2001-02-01</th>\n",
       "      <td>80268.061000</td>\n",
       "      <td>2722.903000</td>\n",
       "      <td>NaN</td>\n",
       "    </tr>\n",
       "    <tr>\n",
       "      <th>2001-03-01</th>\n",
       "      <td>77688.830667</td>\n",
       "      <td>-2579.230333</td>\n",
       "      <td>NaN</td>\n",
       "    </tr>\n",
       "    <tr>\n",
       "      <th>2001-03-01</th>\n",
       "      <td>75109.600333</td>\n",
       "      <td>-2579.230333</td>\n",
       "      <td>NaN</td>\n",
       "    </tr>\n",
       "    <tr>\n",
       "      <th>...</th>\n",
       "      <td>...</td>\n",
       "      <td>...</td>\n",
       "      <td>...</td>\n",
       "    </tr>\n",
       "    <tr>\n",
       "      <th>2022-09-01</th>\n",
       "      <td>32390.584030</td>\n",
       "      <td>-5816.450890</td>\n",
       "      <td>-10249.157230</td>\n",
       "    </tr>\n",
       "    <tr>\n",
       "      <th>2022-10-01</th>\n",
       "      <td>32694.116703</td>\n",
       "      <td>303.532673</td>\n",
       "      <td>-17692.647057</td>\n",
       "    </tr>\n",
       "    <tr>\n",
       "      <th>2022-10-01</th>\n",
       "      <td>32997.649377</td>\n",
       "      <td>303.532673</td>\n",
       "      <td>-17032.966453</td>\n",
       "    </tr>\n",
       "    <tr>\n",
       "      <th>2022-10-01</th>\n",
       "      <td>33301.182050</td>\n",
       "      <td>303.532673</td>\n",
       "      <td>-16373.285850</td>\n",
       "    </tr>\n",
       "    <tr>\n",
       "      <th>2022-12-01</th>\n",
       "      <td>33301.182050</td>\n",
       "      <td>0.000000</td>\n",
       "      <td>-16017.137920</td>\n",
       "    </tr>\n",
       "  </tbody>\n",
       "</table>\n",
       "<p>482 rows × 3 columns</p>\n",
       "</div>"
      ],
      "text/plain": [
       "            Total consumption of coal in US (tonnes)           dif  \\\n",
       "Month                                                                \n",
       "2000-12-01                              90950.508000           NaN   \n",
       "2001-01-01                              77545.158000 -13405.350000   \n",
       "2001-02-01                              80268.061000   2722.903000   \n",
       "2001-03-01                              77688.830667  -2579.230333   \n",
       "2001-03-01                              75109.600333  -2579.230333   \n",
       "...                                              ...           ...   \n",
       "2022-09-01                              32390.584030  -5816.450890   \n",
       "2022-10-01                              32694.116703    303.532673   \n",
       "2022-10-01                              32997.649377    303.532673   \n",
       "2022-10-01                              33301.182050    303.532673   \n",
       "2022-12-01                              33301.182050      0.000000   \n",
       "\n",
       "            seasonal_diff  \n",
       "Month                      \n",
       "2000-12-01            NaN  \n",
       "2001-01-01            NaN  \n",
       "2001-02-01            NaN  \n",
       "2001-03-01            NaN  \n",
       "2001-03-01            NaN  \n",
       "...                   ...  \n",
       "2022-09-01  -10249.157230  \n",
       "2022-10-01  -17692.647057  \n",
       "2022-10-01  -17032.966453  \n",
       "2022-10-01  -16373.285850  \n",
       "2022-12-01  -16017.137920  \n",
       "\n",
       "[482 rows x 3 columns]"
      ]
     },
     "execution_count": 13,
     "metadata": {},
     "output_type": "execute_result"
    }
   ],
   "source": [
    "df['seasonal_diff'] = df['Total consumption of coal in US (tonnes)'].diff(periods=6)\n",
    "df['seasonal_diff']\n",
    "df"
   ]
  },
  {
   "cell_type": "markdown",
   "id": "07306af6-e57f-4084-a09d-95468a413dab",
   "metadata": {},
   "source": [
    "# Autocorrelation"
   ]
  },
  {
   "cell_type": "code",
   "execution_count": 15,
   "id": "676d1446-2049-4f12-8a05-d384b5fdb5ff",
   "metadata": {},
   "outputs": [
    {
     "data": {
      "text/plain": [
       "(-0.5, 1.05)"
      ]
     },
     "execution_count": 15,
     "metadata": {},
     "output_type": "execute_result"
    },
    {
     "data": {
      "image/png": "[encoded data removed]",
      "text/plain": [
       "<Figure size 640x480 with 1 Axes>"
      ]
     },
     "metadata": {},
     "output_type": "display_data"
    }
   ],
   "source": [
    "from statsmodels.tsa.stattools import acf, pacf\n",
    "from statsmodels.graphics.tsaplots import plot_acf, plot_pacf\n",
    "\n",
    "fig=plot_acf(df['seasonal_diff'], lags=481, zero=True)\n",
    "plt.ylim([-0.50,1.05])"
   ]
  },
  {
   "cell_type": "markdown",
   "id": "ae06b0e3-b7e3-477a-bc94-16d6c143d08d",
   "metadata": {},
   "source": [
    "# Ljung - Box Test"
   ]
  },
  {
   "cell_type": "code",
   "execution_count": 18,
   "id": "414f3014-a386-4b45-aa2f-f95aed8f45be",
   "metadata": {},
   "outputs": [
    {
     "data": {
      "text/html": [
       "<div>\n",
       "<style scoped>\n",
       "    .dataframe tbody tr th:only-of-type {\n",
       "        vertical-align: middle;\n",
       "    }\n",
       "\n",
       "    .dataframe tbody tr th {\n",
       "        vertical-align: top;\n",
       "    }\n",
       "\n",
       "    .dataframe thead th {\n",
       "        text-align: right;\n",
       "    }\n",
       "</style>\n",
       "<table border=\"1\" class=\"dataframe\">\n",
       "  <thead>\n",
       "    <tr style=\"text-align: right;\">\n",
       "      <th></th>\n",
       "      <th>lb_stat</th>\n",
       "      <th>lb_pvalue</th>\n",
       "    </tr>\n",
       "  </thead>\n",
       "  <tbody>\n",
       "    <tr>\n",
       "      <th>1</th>\n",
       "      <td>NaN</td>\n",
       "      <td>NaN</td>\n",
       "    </tr>\n",
       "    <tr>\n",
       "      <th>2</th>\n",
       "      <td>NaN</td>\n",
       "      <td>NaN</td>\n",
       "    </tr>\n",
       "    <tr>\n",
       "      <th>3</th>\n",
       "      <td>NaN</td>\n",
       "      <td>NaN</td>\n",
       "    </tr>\n",
       "    <tr>\n",
       "      <th>4</th>\n",
       "      <td>NaN</td>\n",
       "      <td>NaN</td>\n",
       "    </tr>\n",
       "    <tr>\n",
       "      <th>5</th>\n",
       "      <td>NaN</td>\n",
       "      <td>NaN</td>\n",
       "    </tr>\n",
       "    <tr>\n",
       "      <th>...</th>\n",
       "      <td>...</td>\n",
       "      <td>...</td>\n",
       "    </tr>\n",
       "    <tr>\n",
       "      <th>477</th>\n",
       "      <td>NaN</td>\n",
       "      <td>NaN</td>\n",
       "    </tr>\n",
       "    <tr>\n",
       "      <th>478</th>\n",
       "      <td>NaN</td>\n",
       "      <td>NaN</td>\n",
       "    </tr>\n",
       "    <tr>\n",
       "      <th>479</th>\n",
       "      <td>NaN</td>\n",
       "      <td>NaN</td>\n",
       "    </tr>\n",
       "    <tr>\n",
       "      <th>480</th>\n",
       "      <td>NaN</td>\n",
       "      <td>NaN</td>\n",
       "    </tr>\n",
       "    <tr>\n",
       "      <th>481</th>\n",
       "      <td>NaN</td>\n",
       "      <td>NaN</td>\n",
       "    </tr>\n",
       "  </tbody>\n",
       "</table>\n",
       "<p>481 rows × 2 columns</p>\n",
       "</div>"
      ],
      "text/plain": [
       "     lb_stat  lb_pvalue\n",
       "1        NaN        NaN\n",
       "2        NaN        NaN\n",
       "3        NaN        NaN\n",
       "4        NaN        NaN\n",
       "5        NaN        NaN\n",
       "..       ...        ...\n",
       "477      NaN        NaN\n",
       "478      NaN        NaN\n",
       "479      NaN        NaN\n",
       "480      NaN        NaN\n",
       "481      NaN        NaN\n",
       "\n",
       "[481 rows x 2 columns]"
      ]
     },
     "execution_count": 18,
     "metadata": {},
     "output_type": "execute_result"
    }
   ],
   "source": [
    "from statsmodels.stats.diagnostic import acorr_ljungbox\n",
    "\n",
    "acorr_ljungbox(df['seasonal_diff'], lags=481, return_df=True) "
   ]
  },
  {
   "cell_type": "markdown",
   "id": "13b55d31-9a50-45e8-a701-81f02d5ef1b9",
   "metadata": {},
   "source": [
    "# I have encountered some issue that each field is NaN, and autocorellation plot does not generate any lags,\n",
    "# I am not sure how to resolve it furter"
   ]
  }
 ],
 "metadata": {
  "kernelspec": {
   "display_name": "Python 3 (ipykernel)",
   "language": "python",
   "name": "python3"
  },
  "language_info": {
   "codemirror_mode": {
    "name": "ipython",
    "version": 3
   },
   "file_extension": ".py",
   "mimetype": "text/x-python",
   "name": "python",
   "nbconvert_exporter": "python",
   "pygments_lexer": "ipython3",
   "version": "3.9.13"
  }
 },
 "nbformat": 4,
 "nbformat_minor": 5
}
