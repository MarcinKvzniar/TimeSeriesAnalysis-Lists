{
 "cells": [
  {
   "cell_type": "markdown",
   "id": "db179d00-d443-40c8-826c-246aefcbe3cc",
   "metadata": {},
   "source": [
    "# Comparison of classical forecasting methods"
   ]
  },
  {
   "cell_type": "code",
   "execution_count": 1,
   "id": "c2a10b25-a032-474d-9e53-0f4c4d190a91",
   "metadata": {
    "ExecuteTime": {
     "end_time": "2024-05-05T14:14:40.680259600Z",
     "start_time": "2024-05-05T14:14:36.688128700Z"
    }
   },
   "outputs": [],
   "source": [
    "import pandas as pd\n",
    "import matplotlib.pyplot as plt\n",
    "import numpy as np"
   ]
  },
  {
   "cell_type": "code",
   "execution_count": 2,
   "id": "1c76506e-d189-4c5e-ba75-ff4aca4dd971",
   "metadata": {
    "ExecuteTime": {
     "end_time": "2024-05-05T14:14:40.749759600Z",
     "start_time": "2024-05-05T14:14:40.683233200Z"
    }
   },
   "outputs": [
    {
     "name": "stderr",
     "output_type": "stream",
     "text": [
      "C:\\Users\\Marcin\\AppData\\Local\\Temp\\ipykernel_6876\\3049635059.py:1: UserWarning: Could not infer format, so each element will be parsed individually, falling back to `dateutil`. To ensure parsing is consistent and as-expected, please specify a format.\n",
      "  df = pd.read_csv('electricity.csv', index_col='Month', parse_dates=True)\n"
     ]
    },
    {
     "data": {
      "text/plain": "            Coal thousand tons\nMonth                         \n2007-12-01         96610.08500\n2008-01-01         88657.02500\n2008-02-01         85270.25400\n2008-03-01         78700.16800\n2008-04-01         83057.81600\n...                        ...\n2022-06-01         50386.76376\n2022-07-01         49318.31997\n2022-08-01         38207.03492\n2022-09-01         32390.58403\n2022-10-01         33301.18205\n\n[179 rows x 1 columns]",
      "text/html": "<div>\n<style scoped>\n    .dataframe tbody tr th:only-of-type {\n        vertical-align: middle;\n    }\n\n    .dataframe tbody tr th {\n        vertical-align: top;\n    }\n\n    .dataframe thead th {\n        text-align: right;\n    }\n</style>\n<table border=\"1\" class=\"dataframe\">\n  <thead>\n    <tr style=\"text-align: right;\">\n      <th></th>\n      <th>Coal thousand tons</th>\n    </tr>\n    <tr>\n      <th>Month</th>\n      <th></th>\n    </tr>\n  </thead>\n  <tbody>\n    <tr>\n      <th>2007-12-01</th>\n      <td>96610.08500</td>\n    </tr>\n    <tr>\n      <th>2008-01-01</th>\n      <td>88657.02500</td>\n    </tr>\n    <tr>\n      <th>2008-02-01</th>\n      <td>85270.25400</td>\n    </tr>\n    <tr>\n      <th>2008-03-01</th>\n      <td>78700.16800</td>\n    </tr>\n    <tr>\n      <th>2008-04-01</th>\n      <td>83057.81600</td>\n    </tr>\n    <tr>\n      <th>...</th>\n      <td>...</td>\n    </tr>\n    <tr>\n      <th>2022-06-01</th>\n      <td>50386.76376</td>\n    </tr>\n    <tr>\n      <th>2022-07-01</th>\n      <td>49318.31997</td>\n    </tr>\n    <tr>\n      <th>2022-08-01</th>\n      <td>38207.03492</td>\n    </tr>\n    <tr>\n      <th>2022-09-01</th>\n      <td>32390.58403</td>\n    </tr>\n    <tr>\n      <th>2022-10-01</th>\n      <td>33301.18205</td>\n    </tr>\n  </tbody>\n</table>\n<p>179 rows × 1 columns</p>\n</div>"
     },
     "execution_count": 2,
     "metadata": {},
     "output_type": "execute_result"
    }
   ],
   "source": [
    "df = pd.read_csv('electricity.csv', index_col='Month', parse_dates=True)\n",
    "df.drop_duplicates(inplace=True)\n",
    "df.dropna(inplace=True)\n",
    "df = df.iloc[::-1]\n",
    "df "
   ]
  },
  {
   "cell_type": "markdown",
   "id": "b77d2f13-d94a-4e06-bc92-fb15b34a924d",
   "metadata": {},
   "source": [
    "Timeseries plot"
   ]
  },
  {
   "cell_type": "code",
   "execution_count": null,
   "id": "7588e7fb-ae6d-45ab-bb5b-77107db8d98e",
   "metadata": {
    "is_executing": true,
    "ExecuteTime": {
     "start_time": "2024-05-05T14:14:40.722757200Z"
    }
   },
   "outputs": [
    {
     "data": {
      "text/plain": "[<matplotlib.lines.Line2D at 0x2b564b53fb0>]"
     },
     "execution_count": 3,
     "metadata": {},
     "output_type": "execute_result"
    }
   ],
   "source": [
    "plt.title('Total consumption of coal (tonnes) - US')\n",
    "plt.plot(df)"
   ]
  },
  {
   "cell_type": "markdown",
   "id": "80e19b84-a2e7-48ce-a687-b464bc9ea8ae",
   "metadata": {},
   "source": [
    "Train and test data split"
   ]
  },
  {
   "cell_type": "code",
   "execution_count": null,
   "id": "b875cbff-3a11-4bbf-8db6-67a94c0506f8",
   "metadata": {
    "is_executing": true
   },
   "outputs": [],
   "source": [
    "train_data = df.iloc[:int(len(df)*0.8)]\n",
    "test_data = df.iloc[int(len(df)*0.8):]"
   ]
  },
  {
   "cell_type": "markdown",
   "id": "6ba8fac5-f77e-4e4a-affa-585db57745f1",
   "metadata": {},
   "source": [
    "# Holt-Winters method"
   ]
  },
  {
   "cell_type": "code",
   "execution_count": null,
   "id": "9605d965-06f1-425e-a283-89a9f2b56983",
   "metadata": {
    "is_executing": true
   },
   "outputs": [],
   "source": [
    "from statsmodels.tsa.holtwinters import ExponentialSmoothing\n",
    "\n",
    "fitHoltWinter = ExponentialSmoothing(train_data, trend='add', seasonal='add', seasonal_periods=12).fit()\n",
    "fcastHoltWinter = fitHoltWinter.forecast(len(test_data)).rename('Holt-Winters Predict')\n",
    "fcastHoltWinter"
   ]
  },
  {
   "cell_type": "markdown",
   "id": "e559ddf7-cbf0-45fc-8275-fb1772301d62",
   "metadata": {},
   "source": [
    "Plot of the timeseries with forecast"
   ]
  },
  {
   "cell_type": "code",
   "execution_count": null,
   "id": "f3fb341a-3c9d-428a-ab7e-d7dbcf043f9b",
   "metadata": {
    "is_executing": true
   },
   "outputs": [],
   "source": [
    "plt.plot(train_data, label='Train data')\n",
    "plt.plot(test_data, label='Test data')\n",
    "plt.plot(fcastHoltWinter, label='Holt-Winters Prediction')\n",
    "plt.legend()"
   ]
  },
  {
   "cell_type": "markdown",
   "id": "1401a339-8136-4445-9102-a17095d594a2",
   "metadata": {},
   "source": [
    "# SARIMA method"
   ]
  },
  {
   "cell_type": "code",
   "execution_count": null,
   "id": "31b5c740-3fd8-4c96-be00-2676575d2071",
   "metadata": {
    "is_executing": true
   },
   "outputs": [],
   "source": [
    "from statsmodels.tsa.statespace.sarimax import SARIMAX\n",
    "from pmdarima.arima import auto_arima\n",
    "\n",
    "auto_arima(df, seasonal=True, m=12, trace=True).summary()"
   ]
  },
  {
   "cell_type": "markdown",
   "id": "de0f3b08-672d-4134-bf5a-b4f65d8171dd",
   "metadata": {},
   "source": [
    "Split to train / test"
   ]
  },
  {
   "cell_type": "code",
   "execution_count": null,
   "id": "d1aeaaf3-01b5-45a7-ade0-2b14240dcdbc",
   "metadata": {
    "is_executing": true
   },
   "outputs": [],
   "source": [
    "train=df.iloc[:-int(len(df) * 0.8)]\n",
    "test=df.iloc[-int(len(df) * 0.8):]"
   ]
  },
  {
   "cell_type": "code",
   "execution_count": null,
   "id": "5681d7e0-e18f-4d4d-85a5-ff9ad5811bfa",
   "metadata": {
    "is_executing": true
   },
   "outputs": [],
   "source": [
    "model=SARIMAX(train, order=(4,1,0), seasonal_order=(1, 0, 1, 12))\n",
    "result=model.fit()"
   ]
  },
  {
   "cell_type": "code",
   "execution_count": null,
   "id": "04ef86ea-0e34-40e4-936c-25511d7dce0c",
   "metadata": {
    "is_executing": true
   },
   "outputs": [],
   "source": []
  }
 ],
 "metadata": {
  "kernelspec": {
   "display_name": "Python 3 (ipykernel)",
   "language": "python",
   "name": "python3"
  },
  "language_info": {
   "codemirror_mode": {
    "name": "ipython",
    "version": 3
   },
   "file_extension": ".py",
   "mimetype": "text/x-python",
   "name": "python",
   "nbconvert_exporter": "python",
   "pygments_lexer": "ipython3",
   "version": "3.9.13"
  }
 },
 "nbformat": 4,
 "nbformat_minor": 5
}
